{
 "cells": [
  {
   "cell_type": "markdown",
   "metadata": {},
   "source": [
    "# Advanced Uses of Generative AI \n",
    "\n",
    "## Retrieval Augmented Generation\n",
    " In this Project, I built a Retrieval Augmented Generation (RAG) system to answer questions about the COVID-19 pandemic in the United States, using the Wikipedia page titled \"COVID-19 pandemic in the United States\" as the data source.."
   ]
  },
  {
   "cell_type": "markdown",
   "metadata": {},
   "source": [
    "The purpose of this exercise was to explore how to use LangChain to create a system that retrieves relevant information from a document and uses OpenAI's gpt-4 model to generate accurate and relevant responses. The steps included loading the document, processing it, creating embeddings, and then using a language model to answer queries."
   ]
  },
  {
   "cell_type": "markdown",
   "metadata": {},
   "source": [
    "#### Setting Up OpenAI API Key"
   ]
  },
  {
   "cell_type": "markdown",
   "metadata": {},
   "source": [
    "To start, I imported the necessary libraries and retrieved the API key from the system's environment variables. This ensures that the API key is securely accessed and available for making the API calls."
   ]
  },
  {
   "cell_type": "code",
   "execution_count": 1,
   "metadata": {},
   "outputs": [],
   "source": [
    "import openai\n",
    "import os\n",
    "\n",
    "# The API key is stored as an environment variable for security reasons.\n",
    "# It is set in the system environment and can be accessed by using the os.getenv() function.\n",
    "api_key = os.getenv(\"OPENAI_API_KEY\")\n",
    "\n",
    "# If the key is missing, it will print an error message to indicate the issue.\n",
    "if not api_key:\n",
    "    print(\"Error: API key is not set. Please ensure the OPENAI_API_KEY environment variable is configured properly.\")\n",
    "    print(\"To set your API key, run the following command in your terminal: export OPENAI_API_KEY=your_api_key_here\")\n",
    "    exit(1)  # Exit if the API key is not found\n",
    "\n",
    "# Set the API key for the OpenAI API\n",
    "openai.api_key = api_key"
   ]
  },
  {
   "cell_type": "markdown",
   "metadata": {},
   "source": [
    "#### Load Data from Wikipedia"
   ]
  },
  {
   "cell_type": "markdown",
   "metadata": {},
   "source": [
    "Here, I used the WikipediaLoader from the langchain library to load the content of the Wikipedia page titled \"COVID-19 pandemic in the United States.\" This page served as the knowledge base for the Q&A system."
   ]
  },
  {
   "cell_type": "code",
   "execution_count": 2,
   "metadata": {},
   "outputs": [],
   "source": [
    "from langchain.document_loaders import WikipediaLoader\n",
    "\n",
    "# Loaded the Wikipedia page\n",
    "loader = WikipediaLoader(query=\"COVID-19 pandemic in the United States\", load_max_docs=1)\n",
    "documents = loader.load()"
   ]
  },
  {
   "cell_type": "markdown",
   "metadata": {},
   "source": [
    "#### Split the Text into Chunks"
   ]
  },
  {
   "cell_type": "markdown",
   "metadata": {},
   "source": [
    "Since the loaded document was too large for the model to process in one go, I split the text into smaller chunks. This was done using the RecursiveCharacterTextSplitter, which ensured that each chunk contained a manageable amount of text while maintaining some overlap to keep context intact."
   ]
  },
  {
   "cell_type": "code",
   "execution_count": 3,
   "metadata": {},
   "outputs": [
    {
     "data": {
      "text/plain": [
       "[Document(metadata={'title': 'COVID-19 pandemic in the United States', 'summary': \"On December 31, 2019, China announced the discovery of a cluster of pneumonia cases in Wuhan. The first American case was reported on January 20, and Health and Human Services Secretary Alex Azar declared a public health emergency on January 31. Restrictions were placed on flights arriving from China, but the initial U.S. response to the pandemic was otherwise slow in terms of preparing the healthcare system, stopping other travel, and testing. The first known American deaths occurred in February and in late February President Donald Trump proposed allocating $2.5 billion to fight the outbreak. Instead, Congress approved $8.3 billion and Trump signed the Coronavirus Preparedness and Response Supplemental Appropriations Act, 2020 on March 6. Trump declared a national emergency on March 13. The government also purchased large quantities of medical equipment, invoking the Defense Production Act of 1950 to assist. By mid-April, disaster declarations were made by all states and territories as they all had increasing cases. A second wave of infections began in June, following relaxed restrictions in several states, leading to daily cases surpassing 60,000. By mid-October, a third surge of cases began; there were over 200,000 new daily cases during parts of December 2020 and January 2021.\\nCOVID-19 vaccines became available in December 2020, under emergency use, beginning the national vaccination program, with the first vaccine officially approved by the Food and Drug Administration (FDA) on August 23, 2021. Studies have shown them to be highly protective against severe illness, hospitalization, and death. In comparison with fully vaccinated people, the CDC found that those who were unvaccinated were from 5 to nearly 30 times more likely to become either infected or hospitalized. There nonetheless was some vaccine hesitancy for various reasons, although side effects were rare. There were also numerous reports that unvaccinated COVID-19 patients strained the capacity of hospitals throughout the country, forcing many to turn away patients with life-threatening diseases.\\nA fourth rise in infections began in March 2021 amidst the rise of the Alpha variant, a more easily transmissible variant first detected in the United Kingdom. That was followed by a rise of the Delta variant, an even more infectious mutation first detected in India, leading to increased efforts to ensure safety. The January 2022 emergence of the Omicron variant, which was first discovered in South Africa, led to record highs in hospitalizations and cases in early 2022, with as many as 1.5 million new infections reported in a single day. By the end of 2022, an estimated 77.5% of Americans had had COVID-19 at least once, according to the CDC.\\nState and local responses to the pandemic during the public health emergency included the requirement to wear a face mask in specified situations (mask mandates), prohibition and cancellation of large-scale gatherings (including festivals and sporting events), stay-at-home orders, and school closures. Disproportionate numbers of cases were observed among Black and Latino populations, as well as elevated levels of vaccine hesitancy, and there was a sharp increase in reported incidents of xenophobia and racism against Asian Americans. Clusters of infections and deaths occurred in many areas. The COVID-19 pandemic also saw the emergence of misinformation and conspiracy theories, and highlighted weaknesses in the U.S. public health system.\\nIn the United States, there have been 103,436,829 confirmed cases of COVID-19 with 1,193,165 confirmed deaths, the most of any country, and the 17th highest per capita worldwide. The COVID-19 pandemic ranks as the deadliest disaster in the country's history. It was the third-leading cause of death in the U.S. in 2020, behind heart disease and cancer. From 2019 to 2020, U.S. life expectancy dropped by three years for Hispanic and Latino Americans, 2.9 years for African Americans, and 1.2 years for White Americans. In 2021, U.S. deaths due to COVID-19 rose, and life expectancy fell.\", 'source': 'https://en.wikipedia.org/wiki/COVID-19_pandemic_in_the_United_States'}, page_content='On December 31, 2019, China announced the discovery of a cluster of pneumonia cases in Wuhan. The'),\n",
       " Document(metadata={'title': 'COVID-19 pandemic in the United States', 'summary': \"On December 31, 2019, China announced the discovery of a cluster of pneumonia cases in Wuhan. The first American case was reported on January 20, and Health and Human Services Secretary Alex Azar declared a public health emergency on January 31. Restrictions were placed on flights arriving from China, but the initial U.S. response to the pandemic was otherwise slow in terms of preparing the healthcare system, stopping other travel, and testing. The first known American deaths occurred in February and in late February President Donald Trump proposed allocating $2.5 billion to fight the outbreak. Instead, Congress approved $8.3 billion and Trump signed the Coronavirus Preparedness and Response Supplemental Appropriations Act, 2020 on March 6. Trump declared a national emergency on March 13. The government also purchased large quantities of medical equipment, invoking the Defense Production Act of 1950 to assist. By mid-April, disaster declarations were made by all states and territories as they all had increasing cases. A second wave of infections began in June, following relaxed restrictions in several states, leading to daily cases surpassing 60,000. By mid-October, a third surge of cases began; there were over 200,000 new daily cases during parts of December 2020 and January 2021.\\nCOVID-19 vaccines became available in December 2020, under emergency use, beginning the national vaccination program, with the first vaccine officially approved by the Food and Drug Administration (FDA) on August 23, 2021. Studies have shown them to be highly protective against severe illness, hospitalization, and death. In comparison with fully vaccinated people, the CDC found that those who were unvaccinated were from 5 to nearly 30 times more likely to become either infected or hospitalized. There nonetheless was some vaccine hesitancy for various reasons, although side effects were rare. There were also numerous reports that unvaccinated COVID-19 patients strained the capacity of hospitals throughout the country, forcing many to turn away patients with life-threatening diseases.\\nA fourth rise in infections began in March 2021 amidst the rise of the Alpha variant, a more easily transmissible variant first detected in the United Kingdom. That was followed by a rise of the Delta variant, an even more infectious mutation first detected in India, leading to increased efforts to ensure safety. The January 2022 emergence of the Omicron variant, which was first discovered in South Africa, led to record highs in hospitalizations and cases in early 2022, with as many as 1.5 million new infections reported in a single day. By the end of 2022, an estimated 77.5% of Americans had had COVID-19 at least once, according to the CDC.\\nState and local responses to the pandemic during the public health emergency included the requirement to wear a face mask in specified situations (mask mandates), prohibition and cancellation of large-scale gatherings (including festivals and sporting events), stay-at-home orders, and school closures. Disproportionate numbers of cases were observed among Black and Latino populations, as well as elevated levels of vaccine hesitancy, and there was a sharp increase in reported incidents of xenophobia and racism against Asian Americans. Clusters of infections and deaths occurred in many areas. The COVID-19 pandemic also saw the emergence of misinformation and conspiracy theories, and highlighted weaknesses in the U.S. public health system.\\nIn the United States, there have been 103,436,829 confirmed cases of COVID-19 with 1,193,165 confirmed deaths, the most of any country, and the 17th highest per capita worldwide. The COVID-19 pandemic ranks as the deadliest disaster in the country's history. It was the third-leading cause of death in the U.S. in 2020, behind heart disease and cancer. From 2019 to 2020, U.S. life expectancy dropped by three years for Hispanic and Latino Americans, 2.9 years for African Americans, and 1.2 years for White Americans. In 2021, U.S. deaths due to COVID-19 rose, and life expectancy fell.\", 'source': 'https://en.wikipedia.org/wiki/COVID-19_pandemic_in_the_United_States'}, page_content='cases in Wuhan. The first American case was reported on January 20, and Health and Human Services')]"
      ]
     },
     "execution_count": 3,
     "metadata": {},
     "output_type": "execute_result"
    }
   ],
   "source": [
    "from langchain.text_splitter import RecursiveCharacterTextSplitter\n",
    "\n",
    "# Split the document into smaller chunks of 100 characters, with a 20-character overlap between chunks\n",
    "text_splitter = RecursiveCharacterTextSplitter(chunk_size=100, chunk_overlap=20, length_function=len, is_separator_regex=False)\n",
    "\n",
    "chunks = text_splitter.split_documents(documents)\n",
    "\n",
    "# Displayed the first 2 chunks to verify the splitting process\n",
    "chunks[:2]\n"
   ]
  },
  {
   "cell_type": "markdown",
   "metadata": {},
   "source": [
    "#### Create Embeddings and Store Them in Chroma"
   ]
  },
  {
   "cell_type": "markdown",
   "metadata": {},
   "source": [
    "I created embeddings for the text chunks using OpenAI's model. These embeddings converted the text into vectorized representations, which are more suitable for similarity searches. I stored these embeddings in a Chroma vector store, which allowed for fast retrieval of the most relevant document chunks."
   ]
  },
  {
   "cell_type": "code",
   "execution_count": 4,
   "metadata": {},
   "outputs": [],
   "source": [
    "from langchain_openai import OpenAIEmbeddings\n",
    "from langchain.vectorstores import Chroma\n",
    "\n",
    "# Generated embeddings for the chunks using OpenAI's embedding model\n",
    "embeddings = OpenAIEmbeddings()\n",
    "\n",
    "# Stored the embeddings in a Chroma vector store for efficient retrieval\n",
    "store = Chroma.from_documents(\n",
    "    chunks,\n",
    "    embeddings,\n",
    "    ids=[f\"{item.metadata['source']}-{index}\" for index, item in enumerate(chunks)],\n",
    "    collection_name=\"COVID19-USA-Embeddings\",\n",
    "    persist_directory='db',  # Directory to store the embeddings\n",
    ")"
   ]
  },
  {
   "cell_type": "markdown",
   "metadata": {},
   "source": [
    "#### Define the Prompt Template for the Q&A System"
   ]
  },
  {
   "cell_type": "markdown",
   "metadata": {},
   "source": [
    "I defined a prompt template that guided the behavior of the language model when answering questions. The template ensured that the model answered based only on the context provided and avoided fabricating information that wasn’t in the document."
   ]
  },
  {
   "cell_type": "code",
   "execution_count": 5,
   "metadata": {},
   "outputs": [],
   "source": [
    "from langchain.prompts import PromptTemplate\n",
    "\n",
    "# template = \"\"\"You are a bot that answers questions about inflation rates in countries, using only the context provided. If you don't know the answer, simply state that you don't know.\n",
    "\n",
    "template = \"\"\"You are a bot that answers questions about the COVID-19 pandemic in the United States, using only the context provided. If you don't know the answer, simply state that you don't know.\n",
    "\n",
    "{context}\n",
    "\n",
    "Question: {question}\"\"\"\n",
    "\n",
    "PROMPT = PromptTemplate(\n",
    "    template=template, input_variables=[\"context\", \"question\"]\n",
    ")"
   ]
  },
  {
   "cell_type": "markdown",
   "metadata": {},
   "source": [
    "#### Create the Retrieval Question Answering Model"
   ]
  },
  {
   "cell_type": "markdown",
   "metadata": {},
   "source": [
    "Using the embeddings stored in Chroma, I created a Retrieval Question Answering (QA) model. This model combined OpenAI's language model with the Chroma vector store to retrieve relevant information and generate responses based on the context. The model used the defined prompt template for generating answers."
   ]
  },
  {
   "cell_type": "code",
   "execution_count": 6,
   "metadata": {},
   "outputs": [],
   "source": [
    "from langchain.chains import RetrievalQA\n",
    "from langchain.llms import OpenAI\n",
    "from langchain_openai import ChatOpenAI\n",
    "import pprint\n",
    "\n",
    "# Initialized the model with temperature=0 for deterministic responses\n",
    "llm = ChatOpenAI(temperature=0, model_name=\"gpt-4\")\n",
    "\n",
    "# Created the RetrievalQA model using Chroma store and OpenAI model\n",
    "qa = RetrievalQA.from_chain_type(\n",
    "    llm=llm,\n",
    "    chain_type=\"stuff\",  # Used \"stuff\" chain type to concatenate documents as context\n",
    "    retriever=store.as_retriever(),\n",
    "    chain_type_kwargs={\"prompt\":PROMPT, },\n",
    "    return_source_documents=True,  # Returned the source documents along with the answer\n",
    ")\n"
   ]
  },
  {
   "cell_type": "markdown",
   "metadata": {},
   "source": [
    "#### Ask Questions and Retrieve Answers"
   ]
  },
  {
   "cell_type": "markdown",
   "metadata": {},
   "source": [
    "I asked different questions related to COVID-19 and used the model to retrieve answers. The model used the context from the Wikipedia page to generate accurate responses. "
   ]
  },
  {
   "cell_type": "markdown",
   "metadata": {},
   "source": [
    "##### Question 1: To start, I asked a straightforward factual question: \"When did the COVID-19 vaccine rollout begin in the United States?\""
   ]
  },
  {
   "cell_type": "code",
   "execution_count": 7,
   "metadata": {},
   "outputs": [],
   "source": [
    "query1 = \"When did the COVID-19 vaccine rollout begin in the United States?\""
   ]
  },
  {
   "cell_type": "code",
   "execution_count": 8,
   "metadata": {},
   "outputs": [
    {
     "name": "stdout",
     "output_type": "stream",
     "text": [
      "Answer: The COVID-19 vaccine rollout began in the United States in December 2020.\n",
      "\n"
     ]
    }
   ],
   "source": [
    "response1 = qa.invoke({\"query\": query1})\n",
    "print(f\"Answer: {response1['result']}\\n\")"
   ]
  },
  {
   "cell_type": "markdown",
   "metadata": {},
   "source": [
    "**Inference:**\n",
    "\n",
    "This question worked well and produced an accurate and concise response from the Wikipedia page. Since the vaccine rollout was a major milestone that was widely documented in the source material, the system had no difficulty retrieving and presenting the correct answer. This demonstrates that for well-defined, fact-based queries with clear phrasing, the model and retrieval system perform effectively."
   ]
  },
  {
   "cell_type": "markdown",
   "metadata": {},
   "source": [
    "#### Question 2: Next, I asked a more open-ended question, expecting the model to respond with information like mask mandates, event cancellations, and stay-at-home orders.\n",
    "\"What public health measures were implemented in the United States during the COVID-19 pandemic?\""
   ]
  },
  {
   "cell_type": "code",
   "execution_count": 9,
   "metadata": {},
   "outputs": [],
   "source": [
    "query2 = \"What public health measures were implemented in the United States during the COVID-19 pandemic?\""
   ]
  },
  {
   "cell_type": "code",
   "execution_count": 10,
   "metadata": {},
   "outputs": [
    {
     "name": "stdout",
     "output_type": "stream",
     "text": [
      "Answer: The text does not provide specific information on the public health measures implemented in the United States during the COVID-19 pandemic.\n"
     ]
    }
   ],
   "source": [
    "response2 = qa.invoke({\"query\": query2})\n",
    "print(\"Answer:\", response2['result'])"
   ]
  },
  {
   "cell_type": "markdown",
   "metadata": {},
   "source": [
    "This result was surprising because I knew the source document included mentions of public health measures like mask mandates. My thought process was that the phrase “public health measures” may have been too formal or abstract, leading the system to retrieve chunks that didn’t match the language of the question. Additionally, the chunk size used during document splitting may have influenced retrieval. If relevant information was split across chunks or not fully contained within one, it could have reduced the chance of retrieval. "
   ]
  },
  {
   "cell_type": "markdown",
   "metadata": {},
   "source": [
    "##### Refining the Question: How did the government try to keep people safe during the pandemic?\n",
    "I rephrased the question to be more conversational and better align how the information was described in the source text. "
   ]
  },
  {
   "cell_type": "code",
   "execution_count": 11,
   "metadata": {},
   "outputs": [],
   "source": [
    "query3 = \"How did the government try to keep people safe during the pandemic?\""
   ]
  },
  {
   "cell_type": "code",
   "execution_count": 12,
   "metadata": {},
   "outputs": [
    {
     "name": "stdout",
     "output_type": "stream",
     "text": [
      "Answer: The government tried to keep people safe during the pandemic by implementing several measures. These included the requirement to wear a face mask in specified situations, also known as mask mandates. They also prohibited and cancelled large-scale gatherings, including festivals and sporting events, to prevent the spread of the virus.\n",
      "\n"
     ]
    }
   ],
   "source": [
    "response3 = qa.invoke({\"query\": query3})\n",
    "print(f\"Answer: {response3['result']}\\n\")"
   ]
  },
  {
   "cell_type": "markdown",
   "metadata": {},
   "source": [
    "**Inference:**\n",
    "\n",
    "The model responded accurately, mentioning key interventions such as mask mandates and the cancellation of large events. This confirmed that even when the content exists in the source material, the phrasing of the query plays a critical role in retrieval performance. Using more natural, everyday language helped the system connect the query more effectively with the embedded chunks. "
   ]
  },
  {
   "cell_type": "markdown",
   "metadata": {},
   "source": [
    "**Conclusion**\n",
    "\n",
    "This exercise provided valuable insights into how Retrieval-Augmented Generation (RAG) systems perform depending on query phrasing, chunk size, and model choice. Clear, fact-based questions (like the one about vaccine rollout) returned accurate results. But broader questions (such as “public health measures”) didn’t always pull in relevant content, even when it was present. Rephrasing those questions in a more natural, everyday tone helped improve the answers, showing that how we word a question can affect what the system retrieves.\n",
    "\n",
    "I also experimented with both GPT-3.5-turbo and GPT-4. GPT-3.5-turbo often gave broader, inferred answers, even when the details weren’t explicitly present in the source. In contrast, GPT-4 was stricter, delivering responses only when the information was clearly available in the retrieved text.\n",
    "\n",
    "This exercise enhanced my understanding of how fine-tuning queries and model selection can significantly impact the performance of a RAG system. "
   ]
  }
 ],
 "metadata": {
  "kernelspec": {
   "display_name": "Python 3 (ipykernel)",
   "language": "python",
   "name": "python3"
  },
  "language_info": {
   "codemirror_mode": {
    "name": "ipython",
    "version": 3
   },
   "file_extension": ".py",
   "mimetype": "text/x-python",
   "name": "python",
   "nbconvert_exporter": "python",
   "pygments_lexer": "ipython3",
   "version": "3.12.4"
  }
 },
 "nbformat": 4,
 "nbformat_minor": 4
}

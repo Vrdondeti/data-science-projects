{
 "cells": [
  {
   "cell_type": "markdown",
   "id": "71c15852-af32-41b8-8265-c945c3dba3ad",
   "metadata": {},
   "source": [
    "# DSC540 Milestone2: Cleaning/Formatting Flat File Source"
   ]
  },
  {
   "cell_type": "markdown",
   "id": "f35ac515-7d20-47ed-9051-ec7399f882f5",
   "metadata": {},
   "source": [
    "*Milestone Objective:* This milestone aims to perform data transformations and cleansing on a flat file dataset related to U.S. healthcare readmissions. The goal is to create a clean and usable dataset for further analysis by executing at least five specific data transformation steps.\n",
    "\n",
    "The flat file dataset utilized in this project contains essential information regarding 30-day readmission and mortality rates for hospitals across the United States. It comprises over 64,000 rows, capturing data from various states and providing a comprehensive overview of healthcare performance metrics."
   ]
  },
  {
   "cell_type": "markdown",
   "id": "62058202-4f34-4bc8-ae8b-0786f987be6f",
   "metadata": {},
   "source": [
    "### Transformation Steps and Code Outline"
   ]
  },
  {
   "cell_type": "code",
   "execution_count": 1,
   "id": "237dede8-2403-436c-9cf4-eff4cb60f6a0",
   "metadata": {},
   "outputs": [
    {
     "name": "stdout",
     "output_type": "stream",
     "text": [
      "Initial dataset:\n",
      "    index  Provider ID             Hospital Name                   Address  \\\n",
      "0      0       230100  TAWAS ST JOSEPH HOSPITAL               200 HEMLOCK   \n",
      "1      1       230121       MEMORIAL HEALTHCARE      826 WEST KING STREET   \n",
      "2      2       230118      HURON MEDICAL CENTER  1100 SOUTH VAN DYKE ROAD   \n",
      "3      3       230121       MEMORIAL HEALTHCARE      826 WEST KING STREET   \n",
      "4      4       230133  OTSEGO MEMORIAL HOSPITAL          825 N CENTER AVE   \n",
      "\n",
      "         City State  ZIP Code County Name  Phone Number  \\\n",
      "0  TAWAS CITY    MI     48764       IOSCO    9893629301   \n",
      "1      OWOSSO    MI     48867  SHIAWASSEE    9897235211   \n",
      "2     BAD AXE    MI     48413       HURON    9892699521   \n",
      "3      OWOSSO    MI     48867  SHIAWASSEE    9897235211   \n",
      "4     GAYLORD    MI     49735      OTSEGO    9897312100   \n",
      "\n",
      "                                        Measure Name          Measure ID  \\\n",
      "0  Rate of readmission after discharge from hospi...  READM_30_HOSP_WIDE   \n",
      "1     Rate of readmission after hip/knee replacement   READM_30_HIP_KNEE   \n",
      "2             Pneumonia (PN) 30-Day Readmission Rate         READM_30_PN   \n",
      "3            Rate of readmission for stroke patients        READM_30_STK   \n",
      "4           Heart failure (HF) 30-Day Mortality Rate          MORT_30_HF   \n",
      "\n",
      "                  Compared to National Denominator Score Lower Estimate  \\\n",
      "0  No Different than the National Rate         438  13.9           12.6   \n",
      "1  No Different than the National Rate         150   4.0            2.8   \n",
      "2  No Different than the National Rate         205  16.7           13.8   \n",
      "3  No Different than the National Rate          67  11.5            8.7   \n",
      "4  No Different than the National Rate         102  13.4            9.9   \n",
      "\n",
      "  Higher Estimate Footnote Measure Start Date Measure End Date  \\\n",
      "0            15.6      NaN         07/01/2014       06/30/2015   \n",
      "1             5.7      NaN         07/01/2012       06/30/2015   \n",
      "2            19.9      NaN         07/01/2012       06/30/2015   \n",
      "3            14.9      NaN         07/01/2012       06/30/2015   \n",
      "4            17.7      NaN         07/01/2012       06/30/2015   \n",
      "\n",
      "                                            Location  \n",
      "0  200 HEMLOCK\\nTAWAS CITY, MI 48764\\n(44.274911,...  \n",
      "1  826 WEST KING STREET\\nOWOSSO, MI 48867\\n(43.00...  \n",
      "2  1100 SOUTH VAN DYKE ROAD\\nBAD AXE, MI 48413\\n(...  \n",
      "3  826 WEST KING STREET\\nOWOSSO, MI 48867\\n(43.00...  \n",
      "4  825 N CENTER AVE\\nGAYLORD, MI 49735\\n(45.03537...  \n"
     ]
    }
   ],
   "source": [
    "# Step 0: Load the CSV file into a DataFrame\n",
    "\n",
    "# Description: This step loads the dataset from the specified CSV file and displays the first few rows to understand its initial structure.\n",
    "\n",
    "import pandas as pd\n",
    "\n",
    "# Load the CSV file\n",
    "file_path = 'Readmissions_and_Deaths -Hospital.csv'   \n",
    "hospital_data = pd.read_csv(file_path)\n",
    "\n",
    "# Display the first few rows of the dataset to understand its structure\n",
    "print(\"Initial dataset:\\n\", hospital_data.head())"
   ]
  },
  {
   "cell_type": "code",
   "execution_count": 2,
   "id": "5d21b556-3e9c-4de6-9f5e-ef31fa69e525",
   "metadata": {},
   "outputs": [],
   "source": [
    "# Step 1: Replace headers\n",
    "\n",
    "# Goal: Ensure that the headers are clean, readable, and consistent. Column headers contain extra spaces and inconsistent capitalization.\n",
    "# Action: Rename headers to a consistent format (e.g., all lowercase, replacing spaces with underscores).\n",
    "\n",
    "hospital_data.columns = ['index', 'provider_id', 'hospital_name', 'address', 'city', 'state', 'zip_code', \n",
    "              'county_name', 'phone_number', 'measure_name', 'measure_id', 'compared_to_national',\n",
    "              'denominator', 'score', 'lower_estimate', 'higher_estimate', 'footnote', \n",
    "              'measure_start_date', 'measure_end_date', 'location']"
   ]
  },
  {
   "cell_type": "code",
   "execution_count": 3,
   "id": "1fa79997-ef90-4fe2-864e-7cf8c43ce283",
   "metadata": {},
   "outputs": [],
   "source": [
    "# Step 2: Handling missing values\n",
    "\n",
    "# Goal: Ensure that missing data does not cause issues during the analysis by filling in rows with missing values.\n",
    "# Action: Replace missing values in the 'score' column with 0, as this column is critical for analysis.\n",
    "\n",
    "hospital_data['score'] = hospital_data['score'].fillna(0)  # Replace missing scores with 0"
   ]
  },
  {
   "cell_type": "code",
   "execution_count": 4,
   "id": "d3e42d2d-b3db-4285-8e0a-1356da68c2e5",
   "metadata": {},
   "outputs": [],
   "source": [
    "# Step 3: Drop unnecessary columns\n",
    "\n",
    "# Goal: Simplify the dataset by removing columns that are not needed for the analysis, reducing complexity and improving readability.\n",
    "# Action: Drop columns like 'hospital_name', 'provider_id', 'phone_number', and 'footnote' because they are not relevant to the current analysis \n",
    "#         and won't contribute to meaningful insights.\n",
    "\n",
    "hospital_data.drop(columns=['hospital_name', 'provider_id', 'phone_number', 'footnote'], inplace=True)"
   ]
  },
  {
   "cell_type": "code",
   "execution_count": 5,
   "id": "fc786935-c73a-404d-a872-de7cda947ea1",
   "metadata": {},
   "outputs": [],
   "source": [
    "# Step 4: Format Date Columns\n",
    "\n",
    "# Goal: Ensure that date fields are in a proper format for analysis, which will allow us to perform time-based calculations and comparisons later on.\n",
    "# Action: Convert 'Measure Start Date' and 'Measure End Date' to the datetime format using pd.to_datetime(), handling any errors by coercing \n",
    "#         invalid date entries. After conversion, check the data types to confirm that the columns have been successfully formatted as dates.\n",
    "\n",
    "hospital_data['measure_start_date'] = pd.to_datetime(hospital_data['measure_start_date'], errors='coerce')\n",
    "hospital_data['measure_end_date'] = pd.to_datetime(hospital_data['measure_end_date'], errors='coerce')\n",
    "\n",
    "# Display the data types to confirm changes\n",
    "#print(\"Data types after date conversion:\\n\", hospital_data.dtypes)"
   ]
  },
  {
   "cell_type": "code",
   "execution_count": 6,
   "id": "11957293-3016-4d5b-bffc-4e6d60d65ea8",
   "metadata": {},
   "outputs": [
    {
     "name": "stdout",
     "output_type": "stream",
     "text": [
      "Dataset shape after handling spaces and dropping missing state values: (64764, 16)\n"
     ]
    }
   ],
   "source": [
    "# Step 5: Handle leading/trailing spaces and drop rows with missing state values\n",
    "\n",
    "# Goal: Ensure the State values are properly formatted by removing any leading or trailing spaces, and drop rows \n",
    "#       where the State field is missing. This ensures consistency and accuracy in further analysis and merges with other datasets.\n",
    "# Action: Strip any leading/trailing spaces from the State column and remove rows with missing State values.\n",
    "\n",
    "# Remove leading/trailing spaces from the State column\n",
    "hospital_data['state'] = hospital_data['state'].str.strip()\n",
    "\n",
    "# Drop rows where the State column has missing values\n",
    "hospital_data.dropna(subset=['state'], inplace=True)\n",
    "\n",
    "# Display the shape of the dataset after cleaning state values\n",
    "print(f\"Dataset shape after handling spaces and dropping missing state values: {hospital_data.shape}\")"
   ]
  },
  {
   "cell_type": "code",
   "execution_count": 7,
   "id": "61c87611-b787-40be-a9cf-2ccda5c6cb2c",
   "metadata": {},
   "outputs": [
    {
     "name": "stdout",
     "output_type": "stream",
     "text": [
      "Number of duplicate rows found: 0\n",
      "Dataset shape after removing duplicates: (64764, 16)\n"
     ]
    }
   ],
   "source": [
    "# Step 6: Identify and Handle Duplicates\n",
    "\n",
    "# Goal:   Ensure the dataset does not contain duplicate rows, which could skew analysis results or lead to redundant insights.\n",
    "# Action: Identify and count any duplicate rows. If duplicates are found, remove them from the dataset to ensure only unique records remain.\n",
    "#         Finally, display the updated shape of the dataset to confirm that duplicates have been removed.\n",
    "\n",
    "duplicates = hospital_data.duplicated().sum()\n",
    "print(f\"Number of duplicate rows found: {duplicates}\")\n",
    "\n",
    "# If duplicates are found, remove them\n",
    "hospital_data = hospital_data.drop_duplicates()\n",
    "\n",
    "# Display the shape of the dataset after removing duplicates\n",
    "print(f\"Dataset shape after removing duplicates: {hospital_data.shape}\")"
   ]
  },
  {
   "cell_type": "code",
   "execution_count": 8,
   "id": "1b798163-b40f-4084-8264-9662ecd85083",
   "metadata": {},
   "outputs": [
    {
     "name": "stdout",
     "output_type": "stream",
     "text": [
      "Cleaned dataset preview after all transformations:\n",
      "\n",
      "   index                   address        city state  zip_code county_name  \\\n",
      "0      0               200 HEMLOCK  TAWAS CITY    MI     48764       IOSCO   \n",
      "1      1      826 WEST KING STREET      OWOSSO    MI     48867  SHIAWASSEE   \n",
      "2      2  1100 SOUTH VAN DYKE ROAD     BAD AXE    MI     48413       HURON   \n",
      "3      3      826 WEST KING STREET      OWOSSO    MI     48867  SHIAWASSEE   \n",
      "4      4          825 N CENTER AVE     GAYLORD    MI     49735      OTSEGO   \n",
      "\n",
      "                                        measure_name          measure_id  \\\n",
      "0  Rate of readmission after discharge from hospi...  READM_30_HOSP_WIDE   \n",
      "1     Rate of readmission after hip/knee replacement   READM_30_HIP_KNEE   \n",
      "2             Pneumonia (PN) 30-Day Readmission Rate         READM_30_PN   \n",
      "3            Rate of readmission for stroke patients        READM_30_STK   \n",
      "4           Heart failure (HF) 30-Day Mortality Rate          MORT_30_HF   \n",
      "\n",
      "                  compared_to_national denominator score lower_estimate  \\\n",
      "0  No Different than the National Rate         438  13.9           12.6   \n",
      "1  No Different than the National Rate         150   4.0            2.8   \n",
      "2  No Different than the National Rate         205  16.7           13.8   \n",
      "3  No Different than the National Rate          67  11.5            8.7   \n",
      "4  No Different than the National Rate         102  13.4            9.9   \n",
      "\n",
      "  higher_estimate measure_start_date measure_end_date  \\\n",
      "0            15.6         2014-07-01       2015-06-30   \n",
      "1             5.7         2012-07-01       2015-06-30   \n",
      "2            19.9         2012-07-01       2015-06-30   \n",
      "3            14.9         2012-07-01       2015-06-30   \n",
      "4            17.7         2012-07-01       2015-06-30   \n",
      "\n",
      "                                            location  \n",
      "0  200 HEMLOCK\\nTAWAS CITY, MI 48764\\n(44.274911,...  \n",
      "1  826 WEST KING STREET\\nOWOSSO, MI 48867\\n(43.00...  \n",
      "2  1100 SOUTH VAN DYKE ROAD\\nBAD AXE, MI 48413\\n(...  \n",
      "3  826 WEST KING STREET\\nOWOSSO, MI 48867\\n(43.00...  \n",
      "4  825 N CENTER AVE\\nGAYLORD, MI 49735\\n(45.03537...  \n",
      "\n",
      "Dataset Info:\n",
      "<class 'pandas.core.frame.DataFrame'>\n",
      "RangeIndex: 64764 entries, 0 to 64763\n",
      "Data columns (total 16 columns):\n",
      " #   Column                Non-Null Count  Dtype         \n",
      "---  ------                --------------  -----         \n",
      " 0   index                 64764 non-null  int64         \n",
      " 1   address               64764 non-null  object        \n",
      " 2   city                  64764 non-null  object        \n",
      " 3   state                 64764 non-null  object        \n",
      " 4   zip_code              64764 non-null  int64         \n",
      " 5   county_name           64582 non-null  object        \n",
      " 6   measure_name          64764 non-null  object        \n",
      " 7   measure_id            64764 non-null  object        \n",
      " 8   compared_to_national  64764 non-null  object        \n",
      " 9   denominator           64764 non-null  object        \n",
      " 10  score                 64764 non-null  object        \n",
      " 11  lower_estimate        64764 non-null  object        \n",
      " 12  higher_estimate       64764 non-null  object        \n",
      " 13  measure_start_date    64764 non-null  datetime64[ns]\n",
      " 14  measure_end_date      64764 non-null  datetime64[ns]\n",
      " 15  location              64764 non-null  object        \n",
      "dtypes: datetime64[ns](2), int64(2), object(12)\n",
      "memory usage: 7.9+ MB\n",
      "None\n"
     ]
    }
   ],
   "source": [
    "# Final Step: Display the cleaned and transformed dataset\n",
    "\n",
    "# Print the first few rows of the cleaned dataset\n",
    "print(\"Cleaned dataset preview after all transformations:\\n\")\n",
    "print(hospital_data.head())\n",
    "\n",
    "# Optional: Print dataset information to check final structure and data types\n",
    "print(\"\\nDataset Info:\")\n",
    "print(hospital_data.info())"
   ]
  },
  {
   "cell_type": "markdown",
   "id": "4e199250-f3c8-4030-a7d5-3c1589f4a46f",
   "metadata": {},
   "source": [
    "### Ethical Implications of Data Wrangling for the U.S. Healthcare Readmissions and Mortality Dataset"
   ]
  },
  {
   "cell_type": "markdown",
   "id": "4c88e2ff-27e6-44d6-a06b-8969156653ac",
   "metadata": {},
   "source": [
    "During the data cleaning and transformation process for the U.S. Healthcare Readmissions and Mortality dataset, several key changes were implemented. These included renaming headers for better clarity, addressing missing values, dropping unnecessary columns, formatting date columns, and standardizing geographic identifiers. While these transformations improve the dataset's quality for analysis, they also raise important ethical considerations. Legal and regulatory guidelines, such as HIPAA, govern the handling of healthcare data, requiring strict adherence to privacy standards, especially when personal information is involved. The transformations made can introduce risks, such as potential bias from filling in missing values or removing rows, which might distort the dataset's representation of patient demographics and outcomes. Assumptions made during cleaning, such as treating missing 'score' values as zeros, may not accurately reflect the quality of patient care. The dataset was sourced from Kaggle, a reputable platform known for public datasets, enhancing its credibility. However, it is crucial to ensure that data is used ethically and does not exploit vulnerable populations or lead to misleading conclusions. To mitigate these ethical implications, it is important to maintain transparency regarding the limitations of the data, validate the cleaning methods employed, and adhere to ethical standards when reporting findings."
   ]
  },
  {
   "cell_type": "code",
   "execution_count": null,
   "id": "5b3ea560-7358-4a2d-a6f2-e0b892785aff",
   "metadata": {},
   "outputs": [],
   "source": []
  }
 ],
 "metadata": {
  "kernelspec": {
   "display_name": "Python 3 (ipykernel)",
   "language": "python",
   "name": "python3"
  },
  "language_info": {
   "codemirror_mode": {
    "name": "ipython",
    "version": 3
   },
   "file_extension": ".py",
   "mimetype": "text/x-python",
   "name": "python",
   "nbconvert_exporter": "python",
   "pygments_lexer": "ipython3",
   "version": "3.12.4"
  }
 },
 "nbformat": 4,
 "nbformat_minor": 5
}

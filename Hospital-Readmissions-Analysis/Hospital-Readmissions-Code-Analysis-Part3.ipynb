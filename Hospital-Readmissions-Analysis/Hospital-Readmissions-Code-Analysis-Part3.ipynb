{
 "cells": [
  {
   "cell_type": "markdown",
   "id": "71c15852-af32-41b8-8265-c945c3dba3ad",
   "metadata": {},
   "source": [
    "# Part3: Connecting to an API/Pulling in the Data and Cleaning/Formatting\n"
   ]
  },
  {
   "cell_type": "markdown",
   "id": "f35ac515-7d20-47ed-9051-ec7399f882f5",
   "metadata": {},
   "source": [
    "*Milestone Objective:* This milestone involves performing data transformations and cleansing on weather data collected through the OpenWeatherMap API, specifically for U.S. states. The goal is to create a structured, clean dataset that facilitates further analysis by executing at least five key data transformation steps. "
   ]
  },
  {
   "cell_type": "markdown",
   "id": "659ec304-153a-4e9d-8407-82a7a7da6b4b",
   "metadata": {},
   "source": [
    "### Transformation Steps and Code Outline"
   ]
  },
  {
   "cell_type": "code",
   "execution_count": null,
   "id": "1fd20d48-ccce-403a-8b1c-2e2ff4c0007e",
   "metadata": {},
   "outputs": [
    {
     "name": "stdout",
     "output_type": "stream",
     "text": [
      "Coordinates not found for North Carolina\n",
      "Coordinates not found for North Dakota\n",
      "Coordinates not found for South Carolina\n"
     ]
    }
   ],
   "source": [
    "# Importing the requests library for handling HTTP requests\n",
    "import requests\n",
    "# Importing pandas for data manipulation and analysis\n",
    "import pandas as pd\n",
    "\n",
    "# OpenWeatherMap API Key\n",
    "API_KEY = '520772527270235037f2ce9d1cf08c2e'\n",
    "\n",
    "# List of U.S. states with their abbreviations\n",
    "# This dictionary provides a mapping of state names to their standard abbreviations.\n",
    "# It will be used to label data clearly and consistently across our dataset,\n",
    "# and can assist in organizing or joining data from other sources if needed.\n",
    "states = {\n",
    "    \"Alabama\": \"AL\", \"Alaska\": \"AK\", \"Arizona\": \"AZ\", \"Arkansas\": \"AR\", \"California\": \"CA\",\n",
    "    \"Colorado\": \"CO\", \"Connecticut\": \"CT\", \"Delaware\": \"DE\", \"Florida\": \"FL\", \"Georgia\": \"GA\",\n",
    "    \"Hawaii\": \"HI\", \"Idaho\": \"ID\", \"Illinois\": \"IL\", \"Indiana\": \"IN\", \"Iowa\": \"IA\",\n",
    "    \"Kansas\": \"KS\", \"Kentucky\": \"KY\", \"Louisiana\": \"LA\", \"Maine\": \"ME\", \"Maryland\": \"MD\",\n",
    "    \"Massachusetts\": \"MA\", \"Michigan\": \"MI\", \"Minnesota\": \"MN\", \"Mississippi\": \"MS\",\n",
    "    \"Missouri\": \"MO\", \"Montana\": \"MT\", \"Nebraska\": \"NE\", \"Nevada\": \"NV\", \"New Hampshire\": \"NH\",\n",
    "    \"New Jersey\": \"NJ\", \"New Mexico\": \"NM\", \"New York\": \"NY\", \"North Carolina\": \"NC\",\n",
    "    \"North Dakota\": \"ND\", \"Ohio\": \"OH\", \"Oklahoma\": \"OK\", \"Oregon\": \"OR\", \"Pennsylvania\": \"PA\",\n",
    "    \"Rhode Island\": \"RI\", \"South Carolina\": \"SC\", \"South Dakota\": \"SD\", \"Tennessee\": \"TN\",\n",
    "    \"Texas\": \"TX\", \"Utah\": \"UT\", \"Vermont\": \"VT\", \"Virginia\": \"VA\", \"Washington\": \"WA\",\n",
    "    \"West Virginia\": \"WV\", \"Wisconsin\": \"WI\", \"Wyoming\": \"WY\"\n",
    "}\n",
    "\n",
    "# Step #1: Retrieve Geolocation Coordinates for Each State\n",
    "# We need the latitude and longitude of each state to fetch location-specific weather\n",
    "# and air quality data from the OpenWeatherMap API, as the API requires geolocation\n",
    "# coordinates (lat/lon) to provide accurate data for each state.\n",
    "state_coordinates = {}\n",
    "for state, abbrev in states.items():\n",
    "    geocode_url = f\"http://api.openweathermap.org/geo/1.0/direct?q={state},US&limit=1&appid={API_KEY}\"\n",
    "    response = requests.get(geocode_url)\n",
    "    data = response.json()\n",
    "    \n",
    "    # Check if data was returned and contains at least one result\n",
    "    if data and isinstance(data, list) and len(data) > 0:\n",
    "        state_coordinates[state] = {\n",
    "            \"lat\": data[0].get(\"lat\"),\n",
    "            \"lon\": data[0].get(\"lon\")\n",
    "        }\n",
    "    else:\n",
    "        print(f\"Coordinates not found for {state}\")\n",
    "\n",
    "# Step #2: Retrieve Weather and Air Quality Data for Each State\n",
    "# Using the geolocation coordinates (latitude and longitude) obtained in Step #1,\n",
    "# we can now make API calls to retrieve current weather and air quality data for each state.\n",
    "# This step ensures that we gather specific weather details, such as temperature and humidity,\n",
    "# and air quality information, like the Air Quality Index (AQI) for accurate analysis.\n",
    "weather_data = []\n",
    "for state, coords in state_coordinates.items():\n",
    "    lat, lon = coords[\"lat\"], coords[\"lon\"]\n",
    "    \n",
    "    # Weather API\n",
    "    weather_url = f\"http://api.openweathermap.org/data/2.5/weather?lat={lat}&lon={lon}&appid={API_KEY}\"\n",
    "    weather_response = requests.get(weather_url)\n",
    "    weather_info = weather_response.json()\n",
    "    \n",
    "    # Air Quality API\n",
    "    air_quality_url = f\"http://api.openweathermap.org/data/2.5/air_pollution?lat={lat}&lon={lon}&appid={API_KEY}\"\n",
    "    air_quality_response = requests.get(air_quality_url)\n",
    "    air_quality_info = air_quality_response.json()\n",
    "\n",
    "    # Collect data if both API calls are successful\n",
    "    if \"main\" in weather_info and \"list\" in air_quality_info:\n",
    "        weather_data.append({\n",
    "            \"State\": state,\n",
    "            \"Temperature (K)\": weather_info[\"main\"][\"temp\"],\n",
    "            \"Humidity (%)\": weather_info[\"main\"][\"humidity\"],\n",
    "            \"Weather Description\": weather_info[\"weather\"][0][\"description\"],\n",
    "            \"Air Quality Index\": air_quality_info[\"list\"][0][\"main\"][\"aqi\"]\n",
    "        })\n",
    "\n",
    "# Step #3: Convert Data into DataFrame\n",
    "df = pd.DataFrame(weather_data)\n",
    "\n",
    "# Step #4: Data Transformation and Cleaning Steps\n",
    "\n",
    "# Transformation #1: Convert Temperature from Kelvin to Fahrenheit\n",
    "df['Temperature (F)'] = (df['Temperature (K)'] - 273.15) * 9/5 + 32\n",
    "df.drop(columns=['Temperature (K)'], inplace=True)  # Drop the Kelvin column\n",
    "\n",
    "# Transformation #2: Standardize Casing for Weather Descriptions\n",
    "df['Weather Description'] = df['Weather Description'].str.title()\n",
    "\n",
    "# Transformation #3: Replace Numerical Air Quality Index with Descriptive Labels\n",
    "aqi_labels = {1: \"Good\", 2: \"Fair\", 3: \"Moderate\", 4: \"Poor\", 5: \"Very Poor\"}\n",
    "df['Air Quality Index'] = df['Air Quality Index'].map(aqi_labels)\n",
    "\n",
    "# Transformation #4: Handle Missing Values in Air Quality Index by Filling with \"Unavailable\"\n",
    "# df['Air Quality Index'].fillna(\"Unavailable\", inplace=True)\n",
    "df['Air Quality Index'] = df['Air Quality Index'].fillna(\"Unavailable\")\n",
    "\n",
    "# Transformation #5: Ensure Unique State Names by Dropping Duplicates\n",
    "df.drop_duplicates(subset=[\"State\"], keep=\"first\", inplace=True)\n",
    "\n",
    "# Transformation #6: Temperature Grouping\n",
    "# Categorize temperatures into groups (Cold, Cool, Warm, Hot) based on Fahrenheit values for easy analysis.\n",
    "def categorize_temperature(temp_f):\n",
    "    if temp_f <= 32:\n",
    "        return \"Cold\"\n",
    "    elif 32 < temp_f <= 60:\n",
    "        return \"Cool\"\n",
    "    elif 60 < temp_f <= 80:\n",
    "        return \"Warm\"\n",
    "    else:\n",
    "        return \"Hot\"\n",
    "\n",
    "df['Temperature Category'] = df['Temperature (F)'].apply(categorize_temperature)\n",
    "\n",
    "# Final Output: Print the cleaned DataFrame\n",
    "print(df)\n"
   ]
  },
  {
   "cell_type": "markdown",
   "id": "4cf7537e-30e0-4f81-bbee-10a4d8b9d587",
   "metadata": {},
   "source": [
    "Note: The API did not return data for North Carolina, North Dakota, and South Carolina, with a specific message indicating 'Coordinates not found' for these states. This may result from incomplete location data in the API's database. The missing coordinates will impact our later steps when joining data from multiple sources, as we will lack geographic identifiers for these states. Without accurate coordinates, we cannot reliably join or analyze data for these locations alongside other sources. Therefore, these states will be excluded from our analysis."
   ]
  },
  {
   "cell_type": "markdown",
   "id": "be92b633-b64b-48dc-a57b-1eba2b93db90",
   "metadata": {},
   "source": [
    "### Ethical Implications of Data Wrangling from the Weather API Data \n",
    "\n",
    "In the process of data wrangling for this project, several transformations were performed to standardize and clean the data, including temperature conversions, categorical grouping, handling missing values, and mapping numerical air quality indices to descriptive labels. Since the data involves public weather and air quality information, it’s generally compliant with data usage regulations, provided we adhere to API terms of service and refrain from personal identification. One risk created by these transformations is the potential misrepresentation of states missing coordinates (e.g., North Carolina, North Dakota, and South Carolina), as excluding them could skew results or limit the geographic scope of the analysis. Assumptions were also made in temperature categorization and handling missing values, which may affect interpretation. Data was sourced from the OpenWeatherMap API, a reputable source for weather and geolocation data, ensuring credibility. The data was acquired in an ethical manner by using a public API with proper attribution. To mitigate any ethical concerns, particularly around the missing data, we explicitly note exclusions and the potential impact on our findings, and refrain from drawing conclusions about those excluded regions."
   ]
  },
  {
   "cell_type": "code",
   "execution_count": null,
   "id": "44a57d0a-7302-4bd6-849c-44dcc64035d3",
   "metadata": {},
   "outputs": [],
   "source": []
  }
 ],
 "metadata": {
  "kernelspec": {
   "display_name": "Python 3 (ipykernel)",
   "language": "python",
   "name": "python3"
  },
  "language_info": {
   "codemirror_mode": {
    "name": "ipython",
    "version": 3
   },
   "file_extension": ".py",
   "mimetype": "text/x-python",
   "name": "python",
   "nbconvert_exporter": "python",
   "pygments_lexer": "ipython3",
   "version": "3.12.4"
  }
 },
 "nbformat": 4,
 "nbformat_minor": 5
}
